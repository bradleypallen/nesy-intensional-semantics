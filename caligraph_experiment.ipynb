{
 "cells": [
  {
   "cell_type": "code",
   "execution_count": 6,
   "metadata": {},
   "outputs": [],
   "source": [
    "import os, json\n",
    "from tqdm import tqdm\n",
    "from src.intension import Intension"
   ]
  },
  {
   "cell_type": "code",
   "execution_count": 9,
   "metadata": {},
   "outputs": [],
   "source": [
    "MODELS = [ \n",
    "    # Intension(model_name=\"google/gemma-7b-it\"),\n",
    "    # Intension(model_name=\"gpt-3.5-turbo\"), \n",
    "    # Intension(model_name=\"gpt-4-0125-preview\"), \n",
    "    # Intension(model_name=\"mistralai/Mistral-7B-Instruct-v0.2\"),\n",
    "    # Intension(model_name=\"mistralai/Mixtral-8x7B-Instruct-v0.1\"),\n",
    "    # Intension(model_name=\"meta-llama/Llama-2-70b-chat-hf\"), \n",
    "    Intension(model_name=\"claude-3-opus-20240229\"),\n",
    "]\n",
    "\n",
    "DATA = json.load(open('experiments/caligraph_statements.json', 'r'))\n",
    "\n",
    "BATCH_SIZE = 1"
   ]
  },
  {
   "cell_type": "code",
   "execution_count": 10,
   "metadata": {},
   "outputs": [
    {
     "name": "stderr",
     "output_type": "stream",
     "text": [
      "claude-3-opus-20240229        :   0%|          | 0/764 [00:00<?, ?it/s]"
     ]
    },
    {
     "name": "stderr",
     "output_type": "stream",
     "text": [
      "claude-3-opus-20240229        : 100%|██████████| 764/764 [3:50:01<00:00, 18.07s/it]  \n"
     ]
    }
   ],
   "source": [
    "for model in MODELS:\n",
    "    model_name = model.model_name.split(\"/\")[-1]\n",
    "    filename = f'experiments/{model_name}-caligraph.json'\n",
    "    results = []\n",
    "    queries = [\n",
    "        {\n",
    "            \"predicate\": datum[\"predicate\"][\"label\"],\n",
    "            \"arguments\": \", \".join([ arg[\"label\"] for arg in datum[\"arguments\"] ]),\n",
    "            \"world\": \" \".join([ arg[\"description\"] for arg in datum[\"arguments\"] ]),\n",
    "            \"actual\": datum[\"in_extension\"]\n",
    "        }\n",
    "        for datum in DATA\n",
    "    ]\n",
    "    batches = [ queries[i:i+BATCH_SIZE] for i in range(0, len(queries), BATCH_SIZE) ] \n",
    "    for batch in tqdm(batches, desc=f'{model_name:30}', total=len(batches)):\n",
    "        response = model.chain.batch(batch)\n",
    "        for i, result in enumerate(response):\n",
    "            result[\"rationale\"] = result[\"text\"][\"rationale\"]\n",
    "            result[\"predicted\"] = result[\"text\"][\"answer\"]\n",
    "            result.pop(\"text\")\n",
    "        results.extend(response)\n",
    "    json.dump(results, open(filename, \"w+\"))"
   ]
  }
 ],
 "metadata": {
  "kernelspec": {
   "display_name": "conceptual-engineering-using-llms",
   "language": "python",
   "name": "python3"
  },
  "language_info": {
   "codemirror_mode": {
    "name": "ipython",
    "version": 3
   },
   "file_extension": ".py",
   "mimetype": "text/x-python",
   "name": "python",
   "nbconvert_exporter": "python",
   "pygments_lexer": "ipython3",
   "version": "3.11.4"
  },
  "orig_nbformat": 4
 },
 "nbformat": 4,
 "nbformat_minor": 2
}
