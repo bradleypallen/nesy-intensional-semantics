{
 "cells": [
  {
   "cell_type": "code",
   "execution_count": 6,
   "metadata": {},
   "outputs": [],
   "source": [
    "import json, pycm, pandas as pd\n",
    "from src.utils import display_summary_stats"
   ]
  },
  {
   "cell_type": "code",
   "execution_count": 7,
   "metadata": {},
   "outputs": [],
   "source": [
    "wikidata_runs = [\n",
    "    (\"google/gemma-7b-it\", json.load(open('experiments/gemma-7b-it-wikidata.json', 'r'))),\n",
    "    (\"gpt-3.5-turbo\", json.load(open('experiments/gpt-3.5-turbo-wikidata.json', 'r'))),\n",
    "    (\"gpt-4-0125-preview\", json.load(open('experiments/gpt-4-0125-preview-wikidata.json', 'r'))),\n",
    "    (\"mistralai/Mistral-7B-Instruct-v0.2\", json.load(open('experiments/Mistral-7B-Instruct-v0.2-wikidata.json', 'r'))),\n",
    "    (\"mistralai/Mixtral-8x7B-Instruct-v0.1\", json.load(open('experiments/Mixtral-8x7B-Instruct-v0.1-wikidata.json', 'r'))),\n",
    "    # (\"meta-llama/Llama-2-70b-chat-hf\", json.load(open('experiments/Llama-2-70b-chat-hf-wikidata.json', 'r'))),\n",
    "    (\"claude-3-opus-20240229\", json.load(open('experiments/claude-3-opus-20240229-wikidata.json', 'r'))),\n",
    "]"
   ]
  },
  {
   "cell_type": "code",
   "execution_count": 8,
   "metadata": {},
   "outputs": [
    {
     "data": {
      "text/html": [
       "<style type=\"text/css\">\n",
       "#T_402e9_row0_col1, #T_402e9_row0_col2, #T_402e9_row0_col3, #T_402e9_row0_col4 {\n",
       "  font-weight: bold;\n",
       "}\n",
       "</style>\n",
       "<table id=\"T_402e9\">\n",
       "  <thead>\n",
       "    <tr>\n",
       "      <th class=\"blank level0\" >&nbsp;</th>\n",
       "      <th id=\"T_402e9_level0_col0\" class=\"col_heading level0 col0\" >Model</th>\n",
       "      <th id=\"T_402e9_level0_col1\" class=\"col_heading level0 col1\" >ACC</th>\n",
       "      <th id=\"T_402e9_level0_col2\" class=\"col_heading level0 col2\" >AUC</th>\n",
       "      <th id=\"T_402e9_level0_col3\" class=\"col_heading level0 col3\" >F1 Macro</th>\n",
       "      <th id=\"T_402e9_level0_col4\" class=\"col_heading level0 col4\" >Cohen's kappa</th>\n",
       "    </tr>\n",
       "  </thead>\n",
       "  <tbody>\n",
       "    <tr>\n",
       "      <th id=\"T_402e9_level0_row0\" class=\"row_heading level0 row0\" >2</th>\n",
       "      <td id=\"T_402e9_row0_col0\" class=\"data row0 col0\" >gpt-4-0125-preview</td>\n",
       "      <td id=\"T_402e9_row0_col1\" class=\"data row0 col1\" >0.835793</td>\n",
       "      <td id=\"T_402e9_row0_col2\" class=\"data row0 col2\" >0.831040</td>\n",
       "      <td id=\"T_402e9_row0_col3\" class=\"data row0 col3\" >0.831243</td>\n",
       "      <td id=\"T_402e9_row0_col4\" class=\"data row0 col4\" >0.662487</td>\n",
       "    </tr>\n",
       "    <tr>\n",
       "      <th id=\"T_402e9_level0_row1\" class=\"row_heading level0 row1\" >5</th>\n",
       "      <td id=\"T_402e9_row1_col0\" class=\"data row1 col0\" >claude-3-opus-20240229</td>\n",
       "      <td id=\"T_402e9_row1_col1\" class=\"data row1 col1\" >0.813996</td>\n",
       "      <td id=\"T_402e9_row1_col2\" class=\"data row1 col2\" >0.820338</td>\n",
       "      <td id=\"T_402e9_row1_col3\" class=\"data row1 col3\" >0.812275</td>\n",
       "      <td id=\"T_402e9_row1_col4\" class=\"data row1 col4\" >0.626301</td>\n",
       "    </tr>\n",
       "    <tr>\n",
       "      <th id=\"T_402e9_level0_row2\" class=\"row_heading level0 row2\" >3</th>\n",
       "      <td id=\"T_402e9_row2_col0\" class=\"data row2 col0\" >mistralai/Mistral-7B-Instruct-v0.2</td>\n",
       "      <td id=\"T_402e9_row2_col1\" class=\"data row2 col1\" >0.769596</td>\n",
       "      <td id=\"T_402e9_row2_col2\" class=\"data row2 col2\" >0.772741</td>\n",
       "      <td id=\"T_402e9_row2_col3\" class=\"data row2 col3\" >0.767704</td>\n",
       "      <td id=\"T_402e9_row2_col4\" class=\"data row2 col4\" >0.536801</td>\n",
       "    </tr>\n",
       "    <tr>\n",
       "      <th id=\"T_402e9_level0_row3\" class=\"row_heading level0 row3\" >4</th>\n",
       "      <td id=\"T_402e9_row3_col0\" class=\"data row3 col0\" >mistralai/Mixtral-8x7B-Instruct-v0.1</td>\n",
       "      <td id=\"T_402e9_row3_col1\" class=\"data row3 col1\" >0.758364</td>\n",
       "      <td id=\"T_402e9_row3_col2\" class=\"data row3 col2\" >0.767966</td>\n",
       "      <td id=\"T_402e9_row3_col3\" class=\"data row3 col3\" >0.757278</td>\n",
       "      <td id=\"T_402e9_row3_col4\" class=\"data row3 col4\" >0.519068</td>\n",
       "    </tr>\n",
       "    <tr>\n",
       "      <th id=\"T_402e9_level0_row4\" class=\"row_heading level0 row4\" >1</th>\n",
       "      <td id=\"T_402e9_row4_col0\" class=\"data row4 col0\" >gpt-3.5-turbo</td>\n",
       "      <td id=\"T_402e9_row4_col1\" class=\"data row4 col1\" >0.705882</td>\n",
       "      <td id=\"T_402e9_row4_col2\" class=\"data row4 col2\" >0.698231</td>\n",
       "      <td id=\"T_402e9_row4_col3\" class=\"data row4 col3\" >0.697979</td>\n",
       "      <td id=\"T_402e9_row4_col4\" class=\"data row4 col4\" >0.395967</td>\n",
       "    </tr>\n",
       "    <tr>\n",
       "      <th id=\"T_402e9_level0_row5\" class=\"row_heading level0 row5\" >0</th>\n",
       "      <td id=\"T_402e9_row5_col0\" class=\"data row5 col0\" >google/gemma-7b-it</td>\n",
       "      <td id=\"T_402e9_row5_col1\" class=\"data row5 col1\" >0.704120</td>\n",
       "      <td id=\"T_402e9_row5_col2\" class=\"data row5 col2\" >0.678096</td>\n",
       "      <td id=\"T_402e9_row5_col3\" class=\"data row5 col3\" >0.680917</td>\n",
       "      <td id=\"T_402e9_row5_col4\" class=\"data row5 col4\" >0.369313</td>\n",
       "    </tr>\n",
       "  </tbody>\n",
       "</table>\n"
      ],
      "text/plain": [
       "<pandas.io.formats.style.Styler at 0x12f5fba10>"
      ]
     },
     "execution_count": 8,
     "metadata": {},
     "output_type": "execute_result"
    }
   ],
   "source": [
    "display_summary_stats(wikidata_runs)"
   ]
  },
  {
   "cell_type": "code",
   "execution_count": 9,
   "metadata": {},
   "outputs": [],
   "source": [
    "caligraph_runs = [\n",
    "    (\"google/gemma-7b-it\", json.load(open('experiments/gemma-7b-it-caligraph.json', 'r'))),\n",
    "    (\"gpt-3.5-turbo\", json.load(open('experiments/gpt-3.5-turbo-caligraph.json', 'r'))),\n",
    "    (\"gpt-4-0125-preview\", json.load(open('experiments/gpt-4-0125-preview-caligraph.json', 'r'))),\n",
    "    (\"mistralai/Mistral-7B-Instruct-v0.2\", json.load(open('experiments/Mistral-7B-Instruct-v0.2-caligraph.json', 'r'))),\n",
    "    (\"mistralai/Mixtral-8x7B-Instruct-v0.1\", json.load(open('experiments/Mixtral-8x7B-Instruct-v0.1-caligraph.json', 'r'))),\n",
    "    # (\"meta-llama/Llama-2-70b-chat-hf\", json.load(open('experiments/Llama-2-70b-chat-hf-wikidata.json', 'r'))),\n",
    "    (\"claude-3-opus-20240229\", json.load(open('experiments/claude-3-opus-20240229-caligraph.json', 'r'))),\n",
    "]"
   ]
  },
  {
   "cell_type": "code",
   "execution_count": 10,
   "metadata": {},
   "outputs": [
    {
     "data": {
      "text/html": [
       "<style type=\"text/css\">\n",
       "#T_fb597_row0_col1, #T_fb597_row0_col2, #T_fb597_row0_col3, #T_fb597_row0_col4 {\n",
       "  font-weight: bold;\n",
       "}\n",
       "</style>\n",
       "<table id=\"T_fb597\">\n",
       "  <thead>\n",
       "    <tr>\n",
       "      <th class=\"blank level0\" >&nbsp;</th>\n",
       "      <th id=\"T_fb597_level0_col0\" class=\"col_heading level0 col0\" >Model</th>\n",
       "      <th id=\"T_fb597_level0_col1\" class=\"col_heading level0 col1\" >ACC</th>\n",
       "      <th id=\"T_fb597_level0_col2\" class=\"col_heading level0 col2\" >AUC</th>\n",
       "      <th id=\"T_fb597_level0_col3\" class=\"col_heading level0 col3\" >F1 Macro</th>\n",
       "      <th id=\"T_fb597_level0_col4\" class=\"col_heading level0 col4\" >Cohen's kappa</th>\n",
       "    </tr>\n",
       "  </thead>\n",
       "  <tbody>\n",
       "    <tr>\n",
       "      <th id=\"T_fb597_level0_row0\" class=\"row_heading level0 row0\" >2</th>\n",
       "      <td id=\"T_fb597_row0_col0\" class=\"data row0 col0\" >gpt-4-0125-preview</td>\n",
       "      <td id=\"T_fb597_row0_col1\" class=\"data row0 col1\" >0.948953</td>\n",
       "      <td id=\"T_fb597_row0_col2\" class=\"data row0 col2\" >0.947859</td>\n",
       "      <td id=\"T_fb597_row0_col3\" class=\"data row0 col3\" >0.948724</td>\n",
       "      <td id=\"T_fb597_row0_col4\" class=\"data row0 col4\" >0.897500</td>\n",
       "    </tr>\n",
       "    <tr>\n",
       "      <th id=\"T_fb597_level0_row1\" class=\"row_heading level0 row1\" >5</th>\n",
       "      <td id=\"T_fb597_row1_col0\" class=\"data row1 col0\" >claude-3-opus-20240229</td>\n",
       "      <td id=\"T_fb597_row1_col1\" class=\"data row1 col1\" >0.935864</td>\n",
       "      <td id=\"T_fb597_row1_col2\" class=\"data row1 col2\" >0.935912</td>\n",
       "      <td id=\"T_fb597_row1_col3\" class=\"data row1 col3\" >0.935758</td>\n",
       "      <td id=\"T_fb597_row1_col4\" class=\"data row1 col4\" >0.871518</td>\n",
       "    </tr>\n",
       "    <tr>\n",
       "      <th id=\"T_fb597_level0_row2\" class=\"row_heading level0 row2\" >4</th>\n",
       "      <td id=\"T_fb597_row2_col0\" class=\"data row2 col0\" >mistralai/Mixtral-8x7B-Instruct-v0.1</td>\n",
       "      <td id=\"T_fb597_row2_col1\" class=\"data row2 col1\" >0.897606</td>\n",
       "      <td id=\"T_fb597_row2_col2\" class=\"data row2 col2\" >0.896734</td>\n",
       "      <td id=\"T_fb597_row2_col3\" class=\"data row2 col3\" >0.897238</td>\n",
       "      <td id=\"T_fb597_row2_col4\" class=\"data row2 col4\" >0.794521</td>\n",
       "    </tr>\n",
       "    <tr>\n",
       "      <th id=\"T_fb597_level0_row3\" class=\"row_heading level0 row3\" >1</th>\n",
       "      <td id=\"T_fb597_row3_col0\" class=\"data row3 col0\" >gpt-3.5-turbo</td>\n",
       "      <td id=\"T_fb597_row3_col1\" class=\"data row3 col1\" >0.853403</td>\n",
       "      <td id=\"T_fb597_row3_col2\" class=\"data row3 col2\" >0.853696</td>\n",
       "      <td id=\"T_fb597_row3_col3\" class=\"data row3 col3\" >0.853258</td>\n",
       "      <td id=\"T_fb597_row3_col4\" class=\"data row3 col4\" >0.706567</td>\n",
       "    </tr>\n",
       "    <tr>\n",
       "      <th id=\"T_fb597_level0_row4\" class=\"row_heading level0 row4\" >3</th>\n",
       "      <td id=\"T_fb597_row4_col0\" class=\"data row4 col0\" >mistralai/Mistral-7B-Instruct-v0.2</td>\n",
       "      <td id=\"T_fb597_row4_col1\" class=\"data row4 col1\" >0.813333</td>\n",
       "      <td id=\"T_fb597_row4_col2\" class=\"data row4 col2\" >0.811448</td>\n",
       "      <td id=\"T_fb597_row4_col3\" class=\"data row4 col3\" >0.810180</td>\n",
       "      <td id=\"T_fb597_row4_col4\" class=\"data row4 col4\" >0.625192</td>\n",
       "    </tr>\n",
       "    <tr>\n",
       "      <th id=\"T_fb597_level0_row5\" class=\"row_heading level0 row5\" >0</th>\n",
       "      <td id=\"T_fb597_row5_col0\" class=\"data row5 col0\" >google/gemma-7b-it</td>\n",
       "      <td id=\"T_fb597_row5_col1\" class=\"data row5 col1\" >0.684350</td>\n",
       "      <td id=\"T_fb597_row5_col2\" class=\"data row5 col2\" >0.668402</td>\n",
       "      <td id=\"T_fb597_row5_col3\" class=\"data row5 col3\" >0.640247</td>\n",
       "      <td id=\"T_fb597_row5_col4\" class=\"data row5 col4\" >0.347324</td>\n",
       "    </tr>\n",
       "  </tbody>\n",
       "</table>\n"
      ],
      "text/plain": [
       "<pandas.io.formats.style.Styler at 0x12f70c590>"
      ]
     },
     "execution_count": 10,
     "metadata": {},
     "output_type": "execute_result"
    }
   ],
   "source": [
    "display_summary_stats(caligraph_runs)"
   ]
  }
 ],
 "metadata": {
  "kernelspec": {
   "display_name": "Python 3",
   "language": "python",
   "name": "python3"
  },
  "language_info": {
   "codemirror_mode": {
    "name": "ipython",
    "version": 3
   },
   "file_extension": ".py",
   "mimetype": "text/x-python",
   "name": "python",
   "nbconvert_exporter": "python",
   "pygments_lexer": "ipython3",
   "version": "3.11.4"
  }
 },
 "nbformat": 4,
 "nbformat_minor": 2
}
