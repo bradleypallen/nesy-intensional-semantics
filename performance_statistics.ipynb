{
 "cells": [
  {
   "cell_type": "code",
   "execution_count": 22,
   "metadata": {},
   "outputs": [],
   "source": [
    "import json, pycm, pandas as pd"
   ]
  },
  {
   "cell_type": "code",
   "execution_count": 35,
   "metadata": {},
   "outputs": [],
   "source": [
    "wikidata_runs = [\n",
    "    (\"google/gemma-7b-it\", json.load(open('experiments/gemma-7b-it-wikidata.json', 'r'))),\n",
    "    (\"gpt-3.5-turbo\", json.load(open('experiments/gpt-3.5-turbo-wikidata.json', 'r'))),\n",
    "    (\"gpt-4-0125-preview\", json.load(open('experiments/gpt-4-0125-preview-wikidata.json', 'r'))),\n",
    "    (\"mistralai/Mistral-7B-Instruct-v0.2\", json.load(open('experiments/Mistral-7B-Instruct-v0.2-wikidata.json', 'r'))),\n",
    "    (\"mistralai/Mixtral-8x7B-Instruct-v0.1\", json.load(open('experiments/Mixtral-8x7B-Instruct-v0.1-wikidata.json', 'r'))),\n",
    "    # (\"meta-llama/Llama-2-70b-chat-hf\", json.load(open('experiments/Llama-2-70b-chat-hf-wikidata.json', 'r'))),\n",
    "    (\"claude-3-opus-20240229\", json.load(open('experiments/claude-3-opus-20240229-wikidata.json', 'r'))),\n",
    "]"
   ]
  },
  {
   "cell_type": "code",
   "execution_count": 62,
   "metadata": {},
   "outputs": [
    {
     "data": {
      "text/html": [
       "<style type=\"text/css\">\n",
       "#T_c56a3_row0_col1, #T_c56a3_row0_col2, #T_c56a3_row0_col3, #T_c56a3_row0_col4 {\n",
       "  font-weight: bold;\n",
       "}\n",
       "</style>\n",
       "<table id=\"T_c56a3\">\n",
       "  <thead>\n",
       "    <tr>\n",
       "      <th class=\"blank level0\" >&nbsp;</th>\n",
       "      <th id=\"T_c56a3_level0_col0\" class=\"col_heading level0 col0\" >Model</th>\n",
       "      <th id=\"T_c56a3_level0_col1\" class=\"col_heading level0 col1\" >ACC</th>\n",
       "      <th id=\"T_c56a3_level0_col2\" class=\"col_heading level0 col2\" >AUC</th>\n",
       "      <th id=\"T_c56a3_level0_col3\" class=\"col_heading level0 col3\" >F1 Macro</th>\n",
       "      <th id=\"T_c56a3_level0_col4\" class=\"col_heading level0 col4\" >Cohen's kappa</th>\n",
       "    </tr>\n",
       "  </thead>\n",
       "  <tbody>\n",
       "    <tr>\n",
       "      <th id=\"T_c56a3_level0_row0\" class=\"row_heading level0 row0\" >2</th>\n",
       "      <td id=\"T_c56a3_row0_col0\" class=\"data row0 col0\" >gpt-4-0125-preview</td>\n",
       "      <td id=\"T_c56a3_row0_col1\" class=\"data row0 col1\" >0.835793</td>\n",
       "      <td id=\"T_c56a3_row0_col2\" class=\"data row0 col2\" >0.831040</td>\n",
       "      <td id=\"T_c56a3_row0_col3\" class=\"data row0 col3\" >0.831243</td>\n",
       "      <td id=\"T_c56a3_row0_col4\" class=\"data row0 col4\" >0.662487</td>\n",
       "    </tr>\n",
       "    <tr>\n",
       "      <th id=\"T_c56a3_level0_row1\" class=\"row_heading level0 row1\" >5</th>\n",
       "      <td id=\"T_c56a3_row1_col0\" class=\"data row1 col0\" >claude-3-opus-20240229</td>\n",
       "      <td id=\"T_c56a3_row1_col1\" class=\"data row1 col1\" >0.813996</td>\n",
       "      <td id=\"T_c56a3_row1_col2\" class=\"data row1 col2\" >0.820338</td>\n",
       "      <td id=\"T_c56a3_row1_col3\" class=\"data row1 col3\" >0.812275</td>\n",
       "      <td id=\"T_c56a3_row1_col4\" class=\"data row1 col4\" >0.626301</td>\n",
       "    </tr>\n",
       "    <tr>\n",
       "      <th id=\"T_c56a3_level0_row2\" class=\"row_heading level0 row2\" >3</th>\n",
       "      <td id=\"T_c56a3_row2_col0\" class=\"data row2 col0\" >mistralai/Mistral-7B-Instruct-v0.2</td>\n",
       "      <td id=\"T_c56a3_row2_col1\" class=\"data row2 col1\" >0.769596</td>\n",
       "      <td id=\"T_c56a3_row2_col2\" class=\"data row2 col2\" >0.772741</td>\n",
       "      <td id=\"T_c56a3_row2_col3\" class=\"data row2 col3\" >0.767704</td>\n",
       "      <td id=\"T_c56a3_row2_col4\" class=\"data row2 col4\" >0.536801</td>\n",
       "    </tr>\n",
       "    <tr>\n",
       "      <th id=\"T_c56a3_level0_row3\" class=\"row_heading level0 row3\" >4</th>\n",
       "      <td id=\"T_c56a3_row3_col0\" class=\"data row3 col0\" >mistralai/Mixtral-8x7B-Instruct-v0.1</td>\n",
       "      <td id=\"T_c56a3_row3_col1\" class=\"data row3 col1\" >0.758364</td>\n",
       "      <td id=\"T_c56a3_row3_col2\" class=\"data row3 col2\" >0.767966</td>\n",
       "      <td id=\"T_c56a3_row3_col3\" class=\"data row3 col3\" >0.757278</td>\n",
       "      <td id=\"T_c56a3_row3_col4\" class=\"data row3 col4\" >0.519068</td>\n",
       "    </tr>\n",
       "    <tr>\n",
       "      <th id=\"T_c56a3_level0_row4\" class=\"row_heading level0 row4\" >1</th>\n",
       "      <td id=\"T_c56a3_row4_col0\" class=\"data row4 col0\" >gpt-3.5-turbo</td>\n",
       "      <td id=\"T_c56a3_row4_col1\" class=\"data row4 col1\" >0.705882</td>\n",
       "      <td id=\"T_c56a3_row4_col2\" class=\"data row4 col2\" >0.698231</td>\n",
       "      <td id=\"T_c56a3_row4_col3\" class=\"data row4 col3\" >0.697979</td>\n",
       "      <td id=\"T_c56a3_row4_col4\" class=\"data row4 col4\" >0.395967</td>\n",
       "    </tr>\n",
       "    <tr>\n",
       "      <th id=\"T_c56a3_level0_row5\" class=\"row_heading level0 row5\" >0</th>\n",
       "      <td id=\"T_c56a3_row5_col0\" class=\"data row5 col0\" >google/gemma-7b-it</td>\n",
       "      <td id=\"T_c56a3_row5_col1\" class=\"data row5 col1\" >0.704120</td>\n",
       "      <td id=\"T_c56a3_row5_col2\" class=\"data row5 col2\" >0.678096</td>\n",
       "      <td id=\"T_c56a3_row5_col3\" class=\"data row5 col3\" >0.680917</td>\n",
       "      <td id=\"T_c56a3_row5_col4\" class=\"data row5 col4\" >0.369313</td>\n",
       "    </tr>\n",
       "  </tbody>\n",
       "</table>\n"
      ],
      "text/plain": [
       "<pandas.io.formats.style.Styler at 0x1244096d0>"
      ]
     },
     "execution_count": 62,
     "metadata": {},
     "output_type": "execute_result"
    }
   ],
   "source": [
    "display_summary_stats(wikidata_runs)\n"
   ]
  },
  {
   "cell_type": "code",
   "execution_count": 41,
   "metadata": {},
   "outputs": [],
   "source": [
    "caligraph_runs = [\n",
    "    (\"google/gemma-7b-it\", json.load(open('experiments/gemma-7b-it-caligraph.json', 'r'))),\n",
    "    (\"gpt-3.5-turbo\", json.load(open('experiments/gpt-3.5-turbo-caligraph.json', 'r'))),\n",
    "    (\"gpt-4-0125-preview\", json.load(open('experiments/gpt-4-0125-preview-caligraph.json', 'r'))),\n",
    "    (\"mistralai/Mistral-7B-Instruct-v0.2\", json.load(open('experiments/Mistral-7B-Instruct-v0.2-caligraph.json', 'r'))),\n",
    "    (\"mistralai/Mixtral-8x7B-Instruct-v0.1\", json.load(open('experiments/Mixtral-8x7B-Instruct-v0.1-caligraph.json', 'r'))),\n",
    "    # (\"meta-llama/Llama-2-70b-chat-hf\", json.load(open('experiments/Llama-2-70b-chat-hf-wikidata.json', 'r'))),\n",
    "    (\"claude-3-opus-20240229\", json.load(open('experiments/claude-3-opus-20240229-caligraph.json', 'r'))),\n",
    "]"
   ]
  },
  {
   "cell_type": "code",
   "execution_count": 61,
   "metadata": {},
   "outputs": [
    {
     "data": {
      "text/html": [
       "<style type=\"text/css\">\n",
       "#T_d62fd_row0_col1, #T_d62fd_row0_col2, #T_d62fd_row0_col3, #T_d62fd_row0_col4 {\n",
       "  font-weight: bold;\n",
       "}\n",
       "</style>\n",
       "<table id=\"T_d62fd\">\n",
       "  <thead>\n",
       "    <tr>\n",
       "      <th class=\"blank level0\" >&nbsp;</th>\n",
       "      <th id=\"T_d62fd_level0_col0\" class=\"col_heading level0 col0\" >Model</th>\n",
       "      <th id=\"T_d62fd_level0_col1\" class=\"col_heading level0 col1\" >ACC</th>\n",
       "      <th id=\"T_d62fd_level0_col2\" class=\"col_heading level0 col2\" >AUC</th>\n",
       "      <th id=\"T_d62fd_level0_col3\" class=\"col_heading level0 col3\" >F1 Macro</th>\n",
       "      <th id=\"T_d62fd_level0_col4\" class=\"col_heading level0 col4\" >Cohen's kappa</th>\n",
       "    </tr>\n",
       "  </thead>\n",
       "  <tbody>\n",
       "    <tr>\n",
       "      <th id=\"T_d62fd_level0_row0\" class=\"row_heading level0 row0\" >2</th>\n",
       "      <td id=\"T_d62fd_row0_col0\" class=\"data row0 col0\" >gpt-4-0125-preview</td>\n",
       "      <td id=\"T_d62fd_row0_col1\" class=\"data row0 col1\" >0.948953</td>\n",
       "      <td id=\"T_d62fd_row0_col2\" class=\"data row0 col2\" >0.947859</td>\n",
       "      <td id=\"T_d62fd_row0_col3\" class=\"data row0 col3\" >0.948724</td>\n",
       "      <td id=\"T_d62fd_row0_col4\" class=\"data row0 col4\" >0.897500</td>\n",
       "    </tr>\n",
       "    <tr>\n",
       "      <th id=\"T_d62fd_level0_row1\" class=\"row_heading level0 row1\" >5</th>\n",
       "      <td id=\"T_d62fd_row1_col0\" class=\"data row1 col0\" >claude-3-opus-20240229</td>\n",
       "      <td id=\"T_d62fd_row1_col1\" class=\"data row1 col1\" >0.935864</td>\n",
       "      <td id=\"T_d62fd_row1_col2\" class=\"data row1 col2\" >0.935912</td>\n",
       "      <td id=\"T_d62fd_row1_col3\" class=\"data row1 col3\" >0.935758</td>\n",
       "      <td id=\"T_d62fd_row1_col4\" class=\"data row1 col4\" >0.871518</td>\n",
       "    </tr>\n",
       "    <tr>\n",
       "      <th id=\"T_d62fd_level0_row2\" class=\"row_heading level0 row2\" >4</th>\n",
       "      <td id=\"T_d62fd_row2_col0\" class=\"data row2 col0\" >mistralai/Mixtral-8x7B-Instruct-v0.1</td>\n",
       "      <td id=\"T_d62fd_row2_col1\" class=\"data row2 col1\" >0.897606</td>\n",
       "      <td id=\"T_d62fd_row2_col2\" class=\"data row2 col2\" >0.896734</td>\n",
       "      <td id=\"T_d62fd_row2_col3\" class=\"data row2 col3\" >0.897238</td>\n",
       "      <td id=\"T_d62fd_row2_col4\" class=\"data row2 col4\" >0.794521</td>\n",
       "    </tr>\n",
       "    <tr>\n",
       "      <th id=\"T_d62fd_level0_row3\" class=\"row_heading level0 row3\" >1</th>\n",
       "      <td id=\"T_d62fd_row3_col0\" class=\"data row3 col0\" >gpt-3.5-turbo</td>\n",
       "      <td id=\"T_d62fd_row3_col1\" class=\"data row3 col1\" >0.850785</td>\n",
       "      <td id=\"T_d62fd_row3_col2\" class=\"data row3 col2\" >0.850839</td>\n",
       "      <td id=\"T_d62fd_row3_col3\" class=\"data row3 col3\" >0.850585</td>\n",
       "      <td id=\"T_d62fd_row3_col4\" class=\"data row3 col4\" >0.701188</td>\n",
       "    </tr>\n",
       "    <tr>\n",
       "      <th id=\"T_d62fd_level0_row4\" class=\"row_heading level0 row4\" >3</th>\n",
       "      <td id=\"T_d62fd_row4_col0\" class=\"data row4 col0\" >mistralai/Mistral-7B-Instruct-v0.2</td>\n",
       "      <td id=\"T_d62fd_row4_col1\" class=\"data row4 col1\" >0.813333</td>\n",
       "      <td id=\"T_d62fd_row4_col2\" class=\"data row4 col2\" >0.811448</td>\n",
       "      <td id=\"T_d62fd_row4_col3\" class=\"data row4 col3\" >0.810180</td>\n",
       "      <td id=\"T_d62fd_row4_col4\" class=\"data row4 col4\" >0.625192</td>\n",
       "    </tr>\n",
       "    <tr>\n",
       "      <th id=\"T_d62fd_level0_row5\" class=\"row_heading level0 row5\" >0</th>\n",
       "      <td id=\"T_d62fd_row5_col0\" class=\"data row5 col0\" >google/gemma-7b-it</td>\n",
       "      <td id=\"T_d62fd_row5_col1\" class=\"data row5 col1\" >0.684350</td>\n",
       "      <td id=\"T_d62fd_row5_col2\" class=\"data row5 col2\" >0.668402</td>\n",
       "      <td id=\"T_d62fd_row5_col3\" class=\"data row5 col3\" >0.640247</td>\n",
       "      <td id=\"T_d62fd_row5_col4\" class=\"data row5 col4\" >0.347324</td>\n",
       "    </tr>\n",
       "  </tbody>\n",
       "</table>\n"
      ],
      "text/plain": [
       "<pandas.io.formats.style.Styler at 0x11e25b010>"
      ]
     },
     "execution_count": 61,
     "metadata": {},
     "output_type": "execute_result"
    }
   ],
   "source": [
    "display_summary_stats(caligraph_runs)\n"
   ]
  },
  {
   "cell_type": "code",
   "execution_count": 60,
   "metadata": {},
   "outputs": [],
   "source": [
    "def confusion_matrix(model):\n",
    "    df = pd.DataFrame.from_records(model)\n",
    "    return pycm.ConfusionMatrix(df[\"actual\"].tolist(), df[\"predicted\"].tolist(), digit=2, classes=[ '1', '0' ])\n",
    "\n",
    "def highlight_max(s):\n",
    "    is_max = s == s.max()\n",
    "    return ['font-weight: bold' if v else '' for v in is_max]\n",
    "\n",
    "def display_summary_stats(runs):\n",
    "    cms = [ ( model[0], confusion_matrix(model[1])) for model in runs ]\n",
    "    stats = [ \n",
    "                { \n",
    "                    \"Model\": cm[0],\n",
    "                    \"ACC\": cm[1].ACC['1'], \n",
    "                    \"AUC\": cm[1].AUC['1'], \n",
    "                    \"F1 Macro\": cm[1].F1_Macro,\n",
    "                    \"Cohen's kappa\": cm[1].Kappa\n",
    "                } for cm in cms \n",
    "            ]\n",
    "    stats_df = pd.DataFrame.from_records(stats)\n",
    "    df_for_table = stats_df[[\"Model\", \"ACC\", \"AUC\", \"F1 Macro\", \"Cohen's kappa\"]].sort_values(by=\"AUC\", ascending=False)\n",
    "    styled_df = df_for_table.style.apply(highlight_max, subset=['ACC', 'AUC', 'F1 Macro', \"Cohen's kappa\"])\n",
    "    return styled_df"
   ]
  }
 ],
 "metadata": {
  "kernelspec": {
   "display_name": "Python 3",
   "language": "python",
   "name": "python3"
  },
  "language_info": {
   "codemirror_mode": {
    "name": "ipython",
    "version": 3
   },
   "file_extension": ".py",
   "mimetype": "text/x-python",
   "name": "python",
   "nbconvert_exporter": "python",
   "pygments_lexer": "ipython3",
   "version": "3.11.4"
  }
 },
 "nbformat": 4,
 "nbformat_minor": 2
}
