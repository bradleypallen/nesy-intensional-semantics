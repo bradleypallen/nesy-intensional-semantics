{
 "cells": [
  {
   "cell_type": "code",
   "execution_count": 1,
   "metadata": {},
   "outputs": [],
   "source": [
    "import json, wikipedia, os, random\n",
    "from tqdm import tqdm\n",
    "from wikidata.client import Client\n",
    "from requests_ratelimiter import LimiterSession"
   ]
  },
  {
   "cell_type": "code",
   "execution_count": 2,
   "metadata": {},
   "outputs": [],
   "source": [
    "KAMEL_DIRECTORY = \"data/KAMEL\"\n",
    "KAMEL_PROPERTIES = json.load(open(\"data/ISWC/kamel_properties.json\", \"r\"))\n",
    "QUERY_HEADERS = {\n",
    "    'User-Agent': 'NeSyIntSem/0.1 (https://github.com/bradleypallen/nesy-intentional-semantics; b.p.allen@uva.nl)',\n",
    "}"
   ]
  },
  {
   "cell_type": "code",
   "execution_count": 3,
   "metadata": {},
   "outputs": [],
   "source": [
    "def get_wikipedia_summary(page_url):\n",
    "    try:\n",
    "        page_title = page_url.split(\"/\")[-1]\n",
    "        page = wikipedia.page(page_title)\n",
    "        summary = page.summary\n",
    "        return summary\n",
    "    except wikipedia.exceptions.PageError:\n",
    "        return \"Page not found.\"\n",
    "    except wikipedia.exceptions.DisambiguationError as e:\n",
    "        return f\"Disambiguation page. Possible matches: {e.options}\""
   ]
  },
  {
   "cell_type": "code",
   "execution_count": 4,
   "metadata": {},
   "outputs": [],
   "source": [
    "def get_entity_id_from_label(session, property, label, obj):\n",
    "    label = label[:1].upper() + label[1:]\n",
    "    query = f'SELECT ?item WHERE {{ {{ ?item wdt:{property} wd:{obj} ; rdfs:label \"{label}\"@en . }} UNION {{ ?item wdt:{property} wd:{obj} ; skos:altLabel \"{label}\"@en . }} }} LIMIT 1'\n",
    "    url = \"https://query.wikidata.org/sparql\"\n",
    "    params = {\"query\": query, \"format\": \"json\"}\n",
    "    response = session.get(url, params=params)\n",
    "    # print(response.status_code, end=\" > \")\n",
    "    if response.status_code == 200:\n",
    "        data = response.json()\n",
    "        if data[\"results\"][\"bindings\"]:\n",
    "            return data[\"results\"][\"bindings\"][0][\"item\"][\"value\"].split(\"/\")[-1]\n",
    "    \n",
    "    return None"
   ]
  },
  {
   "cell_type": "code",
   "execution_count": 5,
   "metadata": {},
   "outputs": [
    {
     "name": "stdout",
     "output_type": "stream",
     "text": [
      "Skipping P607\n",
      "Skipping P277\n"
     ]
    },
    {
     "name": "stderr",
     "output_type": "stream",
     "text": [
      "P585: 100%|██████████| 200/200 [06:03<00:00,  1.82s/it]\n"
     ]
    },
    {
     "name": "stdout",
     "output_type": "stream",
     "text": [
      "Skipping P467\n",
      "Skipping P197\n",
      "Skipping P915\n",
      "Skipping P200\n",
      "Skipping P87\n",
      "Skipping P7959\n",
      "Skipping P159\n",
      "Skipping P931\n",
      "Skipping P509\n",
      "Skipping P306\n",
      "Skipping P1038\n",
      "Skipping P30\n"
     ]
    },
    {
     "name": "stderr",
     "output_type": "stream",
     "text": [
      "P39:   3%|▎         | 6/200 [00:10<05:51,  1.81s/it]/Users/bradleyallen/.pyenv/versions/3.11.4/lib/python3.11/site-packages/wikipedia/wikipedia.py:389: GuessedAtParserWarning: No parser was explicitly specified, so I'm using the best available HTML parser for this system (\"html.parser\"). This usually isn't a problem, but if you run this code on another system, or in a different virtual environment, it may use a different parser and behave differently.\n",
      "\n",
      "The code that caused this warning is on line 389 of the file /Users/bradleyallen/.pyenv/versions/3.11.4/lib/python3.11/site-packages/wikipedia/wikipedia.py. To get rid of this warning, pass the additional argument 'features=\"html.parser\"' to the BeautifulSoup constructor.\n",
      "\n",
      "  lis = BeautifulSoup(html).find_all('li')\n",
      "P39: 100%|██████████| 200/200 [06:40<00:00,  2.00s/it]\n",
      "P710: 100%|██████████| 200/200 [06:42<00:00,  2.01s/it]\n",
      "P2094: 100%|██████████| 200/200 [06:17<00:00,  1.89s/it]\n",
      "P1350: 100%|██████████| 200/200 [06:03<00:00,  1.82s/it]\n",
      "P171: 100%|██████████| 200/200 [06:38<00:00,  1.99s/it]\n",
      "P5353: 100%|██████████| 200/200 [06:33<00:00,  1.97s/it]\n",
      "P571: 100%|██████████| 200/200 [06:02<00:00,  1.81s/it]\n",
      "P4552: 100%|██████████| 200/200 [06:32<00:00,  1.96s/it]\n",
      "P7153: 100%|██████████| 200/200 [06:39<00:00,  2.00s/it]\n",
      "P1308: 100%|██████████| 200/200 [06:33<00:00,  1.97s/it]\n",
      "P1408: 100%|██████████| 200/200 [06:54<00:00,  2.07s/it]\n",
      "P488: 100%|██████████| 200/200 [06:38<00:00,  1.99s/it]\n",
      "P2437: 100%|██████████| 200/200 [06:02<00:00,  1.81s/it]\n",
      "P2031: 100%|██████████| 200/200 [06:04<00:00,  1.82s/it]\n",
      "P737: 100%|██████████| 200/200 [06:44<00:00,  2.02s/it]\n",
      "P131: 100%|██████████| 200/200 [06:46<00:00,  2.03s/it]\n",
      "P183:   4%|▍         | 8/200 [00:17<06:55,  2.16s/it]"
     ]
    }
   ],
   "source": [
    "for property in KAMEL_PROPERTIES:\n",
    "    filename = f\"data/NESY/{property}.json\"\n",
    "    if os.path.isfile(filename):\n",
    "        print(f'Skipping {property}')\n",
    "    else:\n",
    "        data = [ json.loads(line) for line in open(f\"data/KAMEL/{property}/test.jsonl\", \"r\") ]\n",
    "        wikidata_client = Client()\n",
    "        prop = wikidata_client.get(property, load=True)\n",
    "        session = LimiterSession(per_minute=30)\n",
    "        session.headers.update(QUERY_HEADERS)\n",
    "        positives = []\n",
    "        negatives = []\n",
    "        statements = set()\n",
    "        predicate = { \n",
    "            \"id\": property, \n",
    "            \"label\": str(prop.label), \n",
    "            \"definition\": f'{str(prop.label)}: {str(prop.description)}.' \n",
    "        }\n",
    "        subjects = []\n",
    "        objects = []\n",
    "        for datum in tqdm(data, desc=f'{property}', total=len(data)):\n",
    "            subj_id = get_entity_id_from_label(session, property, datum['sub_label'], datum['obj_uri'][0])\n",
    "            if subj_id:\n",
    "                try:\n",
    "                    subj = wikidata_client.get(subj_id, load=True)\n",
    "                    subject = { \n",
    "                        \"id\": str(subj.id), \n",
    "                        \"label\": str(subj.label), \n",
    "                        \"description\": f'{str(subj.label)}: {wikipedia.summary(str(subj.label), auto_suggest=False)}' \n",
    "                    }\n",
    "                    subjects.append(subject)\n",
    "                    obj = wikidata_client.get(datum['obj_uri'][0], load=True)\n",
    "                    objekt = { \n",
    "                        \"id\": str(obj.id), \n",
    "                        \"label\": str(obj.label), \n",
    "                        \"description\": f'{str(obj.label)}: {wikipedia.summary(str(obj.label), auto_suggest=False)}' \n",
    "                    }\n",
    "                    objects.append(objekt)\n",
    "                    example = { \n",
    "                        \"predicate\": predicate, \n",
    "                        \"arguments\": [ subject, objekt ],\n",
    "                        \"in_extension\": \"1\" \n",
    "                    }\n",
    "                    statement = f'{example[\"predicate\"]}({example[\"arguments\"][0]},{example[\"arguments\"][1]})'\n",
    "                    positives.append(example)\n",
    "                    statements.add(statement)\n",
    "                except:\n",
    "                    pass\n",
    "        for i in range(len(positives)):\n",
    "            subject = random.choice(subjects)\n",
    "            objekt = random.choice(objects)\n",
    "            statement = f'{predicate[\"label\"]}({subject[\"label\"]},{objekt[\"label\"]})'\n",
    "            while statement in statements:\n",
    "                subject = random.choice(subjects)\n",
    "                objekt = random.choice(objects)\n",
    "                statement = f'{predicate[\"label\"]}({subject[\"label\"]},{objekt[\"label\"]})'\n",
    "            example = { \n",
    "                \"predicate\": predicate, \n",
    "                \"arguments\": [ subject, objekt ],\n",
    "                \"in_extension\": \"0\" \n",
    "            }\n",
    "            statements.add(statement)\n",
    "            negatives.append(example)\n",
    "        json.dump(positives + negatives, open(filename, \"w+\"))"
   ]
  }
 ],
 "metadata": {
  "kernelspec": {
   "display_name": "Python 3",
   "language": "python",
   "name": "python3"
  },
  "language_info": {
   "codemirror_mode": {
    "name": "ipython",
    "version": 3
   },
   "file_extension": ".py",
   "mimetype": "text/x-python",
   "name": "python",
   "nbconvert_exporter": "python",
   "pygments_lexer": "ipython3",
   "version": "3.11.4"
  }
 },
 "nbformat": 4,
 "nbformat_minor": 2
}
