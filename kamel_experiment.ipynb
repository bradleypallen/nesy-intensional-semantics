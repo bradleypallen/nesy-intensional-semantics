{
 "cells": [
  {
   "cell_type": "code",
   "execution_count": 1,
   "metadata": {},
   "outputs": [],
   "source": [
    "import json, wikipedia, requests"
   ]
  },
  {
   "cell_type": "code",
   "execution_count": 2,
   "metadata": {},
   "outputs": [
    {
     "name": "stdout",
     "output_type": "stream",
     "text": [
      "/Users/bradleyallen/Documents/GitHub/nesy-intensional-semantics\n"
     ]
    }
   ],
   "source": [
    "! pwd"
   ]
  },
  {
   "cell_type": "code",
   "execution_count": 4,
   "metadata": {},
   "outputs": [],
   "source": [
    "p6_kamel_test_data = open(\"data/KAMEL/P6/test.jsonl\", \"r\")"
   ]
  },
  {
   "cell_type": "code",
   "execution_count": 5,
   "metadata": {},
   "outputs": [],
   "source": [
    "data = [ json.loads(line) for line in p6_kamel_test_data ]"
   ]
  },
  {
   "cell_type": "code",
   "execution_count": 6,
   "metadata": {},
   "outputs": [
    {
     "data": {
      "text/plain": [
       "{'index': [1655],\n",
       " 'sub_label': 'Samegrelo-Zemo Svaneti',\n",
       " 'obj_uri': ['Q16215283'],\n",
       " 'obj_label': [{'alternative': [],\n",
       "   'rdf': 'Zaza Gorozia',\n",
       "   'chosen': 'Zaza Gorozia'}]}"
      ]
     },
     "execution_count": 6,
     "metadata": {},
     "output_type": "execute_result"
    }
   ],
   "source": [
    "data[0]"
   ]
  },
  {
   "cell_type": "code",
   "execution_count": null,
   "metadata": {},
   "outputs": [],
   "source": [
    "p6 = { \"id\": \"P6\", \"label\": \"head of government\", \"definition\": \"\"}"
   ]
  },
  {
   "cell_type": "code",
   "execution_count": null,
   "metadata": {},
   "outputs": [],
   "source": [
    "{\n",
    "        \"predicate\": {\n",
    "            \"id\": \"\",\n",
    "            \"label\": \"is an instance of\",\n",
    "            \"definition\": \"\"\n",
    "        },\n",
    "        \"arguments\": [\n",
    "            {\n",
    "                \"id\": \"http://www.wikidata.org/entity/Q266369\",\n",
    "                \"label\": \"history of pest\",\n",
    "                \"description\": \"history of pest: The city of Budapest was officially created on 17 November 1873 from a merger of the three neighboring cities of Pest, Buda and \\u00d3buda.  Smaller towns on the outskirts of the original city were amalgamated into Greater Budapest in 1950. The origins of Budapest can be traced to Celts who occupied the plains of Hungary in the 4th century BC. The area was later conquered by the Roman Empire, which established the fortress and town of Aquincum on the site of today's Budapest around AD 100. The Romans were expelled in the 5th century by the Huns, who were challenged by various tribes during the next several centuries. The Hungarian conquest of the Carpathian Basin started at the end of the 9th century, and the Kingdom of Hungary was established at the end of the 11th century.\\nFrom around 1300 to the incorporation of 1873, Buda was the capital of the Kingdom of Hungary for five periods of less than a century each.\",\n",
    "                \"serialization\": \"<http://www.wikidata.org/entity/Q266369>\\t<http://www.w3.org/2004/02/skos/core#altLabel>\\t\\\"pest history\\\"@en\\n<http://www.wikidata.org/entity/Q266369>\\t<http://schema.org/description>\\t\\\"history of the capital city of Hungary\\\"@en\\n<http://www.wikidata.org/entity/Q266369>\\t<http://www.w3.org/2000/01/rdf-schema#label>\\t\\\"history of pest\\\"@en\\n\"\n",
    "            },\n",
    "            {\n",
    "                \"id\": \"http://www.wikidata.org/entity/Q30324006\",\n",
    "                \"label\": \"History of cities\",\n",
    "                \"serialization\": \"<http://www.wikidata.org/entity/Q30324006>\\t<http://www.w3.org/2004/02/skos/core#altLabel>\\t\\\"history of cities\\\"@en\\n<http://www.wikidata.org/entity/Q30324006>\\t<http://schema.org/description>\\t\\\"aspect of history\\\"@en\\n<http://www.wikidata.org/entity/Q30324006>\\t<http://www.w3.org/2004/02/skos/core#altLabel>\\t\\\"city history\\\"@en\\n<http://www.wikidata.org/entity/Q30324006>\\t<http://www.w3.org/2004/02/skos/core#altLabel>\\t\\\"the city history\\\"@en\\n<http://www.wikidata.org/entity/Q30324006>\\t<http://www.w3.org/2000/01/rdf-schema#label>\\t\\\"history of the city\\\"@en\\n\",\n",
    "                \"description\": \"History of cities: Towns and cities have a long history, although opinions vary on which ancient settlements are truly cities. The benefits of dense settlement included reduced transport costs, exchange of ideas, sharing of natural resources, large local markets, and in some cases amenities such as running water and sewerage. Possible costs would include higher rate of crime, higher mortality rates, higher cost of living, worse pollution, traffic and high commuting times. Cities grow when the benefits of proximity between people and firms are higher than the cost.\"\n",
    "            }\n",
    "        ],\n",
    "        \"in_extension\": \"1\"\n",
    "    }"
   ]
  }
 ],
 "metadata": {
  "kernelspec": {
   "display_name": "Python 3",
   "language": "python",
   "name": "python3"
  },
  "language_info": {
   "codemirror_mode": {
    "name": "ipython",
    "version": 3
   },
   "file_extension": ".py",
   "mimetype": "text/x-python",
   "name": "python",
   "nbconvert_exporter": "python",
   "pygments_lexer": "ipython3",
   "version": "3.11.4"
  }
 },
 "nbformat": 4,
 "nbformat_minor": 2
}
