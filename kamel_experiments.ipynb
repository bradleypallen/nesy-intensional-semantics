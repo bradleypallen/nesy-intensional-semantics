{
 "cells": [
  {
   "cell_type": "code",
   "execution_count": 9,
   "metadata": {},
   "outputs": [],
   "source": [
    "import json, os, re, time\n",
    "from datetime import datetime\n",
    "from tqdm import tqdm\n",
    "from src.intension2 import Intension"
   ]
  },
  {
   "cell_type": "code",
   "execution_count": 10,
   "metadata": {},
   "outputs": [],
   "source": [
    "MODELS = [ \n",
    "    # { \"model_name\": \"google/gemma-7b-it\", \"batch_size\": 50 },\n",
    "    # { \"model_name\": \"gpt-3.5-turbo\", \"batch_size\": 50 },\n",
    "    # { \"model_name\": \"gpt-4o-2024-05-13\", \"batch_size\": 50 },\n",
    "    # { \"model_name\": \"mistralai/Mistral-7B-Instruct-v0.2\", \"batch_size\": 50 },\n",
    "    { \"model_name\": \"mistralai/Mixtral-8x7B-Instruct-v0.1\", \"batch_size\": 50 },\n",
    "    # { \"model_name\": \"meta-llama/Meta-Llama-3-70B-Instruct\", \"batch_size\": 50 },\n",
    "    # { \"model_name\": \"claude-3-opus-20240229\", \"batch_size\": 1 },\n",
    "]\n",
    "DATA_DIRECTORY = \"data/NESY\"\n",
    "DATA_FILENAME_PATTERN = r\"(P.+)\\.json$\""
   ]
  },
  {
   "cell_type": "code",
   "execution_count": 11,
   "metadata": {},
   "outputs": [
    {
     "name": "stdout",
     "output_type": "stream",
     "text": [
      " P509 mistralai/Mixtral-8x7B-Instruct-v0.1: EXISTS\n",
      " P159 mistralai/Mixtral-8x7B-Instruct-v0.1: EXISTS\n",
      "P5353 mistralai/Mixtral-8x7B-Instruct-v0.1: EXISTS\n",
      "P1408 mistralai/Mixtral-8x7B-Instruct-v0.1: EXISTS\n",
      " P197 mistralai/Mixtral-8x7B-Instruct-v0.1: EXISTS\n",
      "P1038 mistralai/Mixtral-8x7B-Instruct-v0.1: EXISTS\n",
      " P915 mistralai/Mixtral-8x7B-Instruct-v0.1: EXISTS\n",
      "P7153 mistralai/Mixtral-8x7B-Instruct-v0.1: EXISTS\n",
      "P4552 mistralai/Mixtral-8x7B-Instruct-v0.1: EXISTS\n",
      " P488 mistralai/Mixtral-8x7B-Instruct-v0.1: EXISTS\n",
      " P467 mistralai/Mixtral-8x7B-Instruct-v0.1: EXISTS\n",
      "  P30 mistralai/Mixtral-8x7B-Instruct-v0.1: EXISTS\n",
      " P277 mistralai/Mixtral-8x7B-Instruct-v0.1: EXISTS\n",
      " P200 mistralai/Mixtral-8x7B-Instruct-v0.1: EXISTS\n",
      "P7959 mistralai/Mixtral-8x7B-Instruct-v0.1: EXISTS\n",
      "  P87 mistralai/Mixtral-8x7B-Instruct-v0.1: EXISTS\n",
      " P171 mistralai/Mixtral-8x7B-Instruct-v0.1: EXISTS\n",
      " P737 mistralai/Mixtral-8x7B-Instruct-v0.1: EXISTS\n",
      " P306 mistralai/Mixtral-8x7B-Instruct-v0.1: EXISTS\n",
      "The token has not been saved to the git credentials helper. Pass `add_to_git_credential=True` in this function directly or `--add-to-git-credential` if using via `huggingface-cli` if you want to set the git credential as well.\n",
      "Token is valid (permission: fineGrained).\n",
      "Your token has been saved to /Users/bradleyallen/.cache/huggingface/token\n",
      "Login successful\n"
     ]
    },
    {
     "name": "stderr",
     "output_type": "stream",
     "text": [
      " P931 mistralai/Mixtral-8x7B-Instruct-v0.1: 100%|██████████| 6/6 [01:09<00:00, 11.66s/it]\n"
     ]
    }
   ],
   "source": [
    "files = [file for file in os.listdir(DATA_DIRECTORY) if os.path.isfile(os.path.join(DATA_DIRECTORY, file))]\n",
    "matched_files = [file for file in files if re.match(DATA_FILENAME_PATTERN, file)]\n",
    "for file in matched_files[:20]:\n",
    "    m = re.match(DATA_FILENAME_PATTERN, file)\n",
    "    property = m.group(1)\n",
    "    data = json.load(open(os.path.join(DATA_DIRECTORY, file), 'r'))\n",
    "    for model in MODELS:\n",
    "        filename = f'experiments2/{model[\"model_name\"].split(\"/\")[-1]}-kamel-{property}.json'\n",
    "        if os.path.isfile(filename):\n",
    "            print(f'{property:>5} {model[\"model_name\"]:36}: EXISTS')\n",
    "        else:\n",
    "            results = []\n",
    "            queries = [\n",
    "                {\n",
    "                    \"predicate\": datum[\"predicate\"][\"label\"],\n",
    "                    \"arguments\": \", \".join([ arg[\"label\"] for arg in datum[\"arguments\"] ]),\n",
    "                    \"world\": datum[\"predicate\"][\"definition\"] + \" \" + \" \".join([ arg[\"description\"] for arg in datum[\"arguments\"] ]),\n",
    "                    \"actual\": datum[\"in_extension\"]\n",
    "                }\n",
    "                for datum in data\n",
    "            ]\n",
    "            batches = [ queries[i:i+model[\"batch_size\"]] for i in range(0, len(queries), model[\"batch_size\"]) ] \n",
    "            intension = Intension(model=model[\"model_name\"])\n",
    "            for batch in tqdm(batches, desc=f'{property:>5} {model[\"model_name\"]:36}', total=len(batches)):\n",
    "                response = intension.chain.batch(batch)\n",
    "                # response = None\n",
    "                # while not response:\n",
    "                #     try:\n",
    "                #         response = intension.chain.batch(batch)\n",
    "                #     except:\n",
    "                #         print(f\"Pausing for an hour starting {datetime.now().isoformat()}...\")\n",
    "                #         time.sleep(3600)\n",
    "                for i, result in enumerate(response):\n",
    "                    result[\"rationale\"] = result[\"text\"][\"rationale\"]\n",
    "                    result[\"predicted\"] = result[\"text\"][\"answer\"]\n",
    "                    result.pop(\"text\")\n",
    "                results.extend(response)\n",
    "            json.dump(results, open(filename, \"w+\"))"
   ]
  }
 ],
 "metadata": {
  "kernelspec": {
   "display_name": "Python 3",
   "language": "python",
   "name": "python3"
  },
  "language_info": {
   "codemirror_mode": {
    "name": "ipython",
    "version": 3
   },
   "file_extension": ".py",
   "mimetype": "text/x-python",
   "name": "python",
   "nbconvert_exporter": "python",
   "pygments_lexer": "ipython3",
   "version": "3.11.4"
  }
 },
 "nbformat": 4,
 "nbformat_minor": 2
}
