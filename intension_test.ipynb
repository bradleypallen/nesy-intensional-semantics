{
 "cells": [
  {
   "cell_type": "code",
   "execution_count": 1,
   "metadata": {},
   "outputs": [],
   "source": [
    "import os, re\n",
    "from langchain import PromptTemplate, LLMChain\n",
    "from langchain_openai import ChatOpenAI\n",
    "from langchain.output_parsers import RegexParser\n",
    "from langchain_anthropic import ChatAnthropic\n",
    "from langchain_google_genai import ChatGoogleGenerativeAI\n",
    "from langchain_community.llms import HuggingFaceEndpoint\n",
    "from langchain_core.output_parsers import StrOutputParser\n",
    "from src.intension import Intension"
   ]
  },
  {
   "cell_type": "code",
   "execution_count": 2,
   "metadata": {},
   "outputs": [],
   "source": [
    "gpt4 = Intension(model_name=\"gpt-4-0125-preview\")\n",
    "gemma_2b = Intension(model_name=\"google/gemma-2b-it\")\n",
    "mixtral = Intension(model_name=\"mistralai/Mixtral-8x7B-Instruct-v0.1\")"
   ]
  },
  {
   "cell_type": "code",
   "execution_count": 3,
   "metadata": {},
   "outputs": [
    {
     "data": {
      "text/plain": [
       "[{'predicate': 'is a',\n",
       "  'arguments': 'Richard Nixon, pacifist',\n",
       "  'world': 'things are as they are',\n",
       "  'text': {'rationale': 'To evaluate the truth value of the statement \"is a(Richard Nixon, pacifist),\" we need to consider what is known about Richard Nixon and the definition of a pacifist. Richard Nixon was the 37th President of the United States, serving from 1969 to 1974. His presidency is notably marked by significant events in foreign policy, including the Vietnam War. A pacifist is someone who believes that war and violence are unjustifiable and should not be used to settle disputes. Given Nixon\\'s involvement in the Vietnam War and his policies during that time, it would be inaccurate to categorize him as a pacifist. Therefore, in a hypothetical world where \"things are as they are,\" meaning we consider historical facts and definitions as they stand, the statement \"is a(Richard Nixon, pacifist)\" would be false.',\n",
       "   'answer': '0'}},\n",
       " {'predicate': 'is a',\n",
       "  'arguments': 'Richard Nixon, pacifist',\n",
       "  'world': 'Nixon never went into politics and instead became a Quaker minister',\n",
       "  'text': {'rationale': 'In the hypothetical world described, Richard Nixon never went into politics but instead became a Quaker minister. Quakers are known for their pacifist beliefs, advocating for peace and non-violence. Given that Nixon became a Quaker minister, it is reasonable to infer that he adopted and lived by these pacifist principles. Therefore, in this hypothetical scenario, the statement \"is a(Richard Nixon, pacifist)\" would be true based on the information provided.',\n",
       "   'answer': '1'}},\n",
       " {'predicate': 'small',\n",
       "  'arguments': 'Los Angeles',\n",
       "  'world': 'things are as they are',\n",
       "  'text': {'rationale': 'To evaluate the truth value of the statement \"small(Los Angeles),\" we need to consider the context provided by the hypothetical world where \"things are as they are.\" This phrase suggests that we should rely on real-world knowledge or common understanding of the terms involved. In the real world, Los Angeles is known to be a large city, both in terms of population and geographical area. It is one of the largest cities in the United States and is recognized globally for its size, influence, and economic significance. Therefore, describing Los Angeles as \"small\" contradicts the widely accepted understanding of its size and characteristics.',\n",
       "   'answer': '0'}},\n",
       " {'predicate': 'hot',\n",
       "  'arguments': 'Kate Moss',\n",
       "  'world': 'things are as they are',\n",
       "  'text': {'rationale': 'The statement \"hot(Kate Moss)\" is a subjective claim that depends on the definition of \"hot\" within the context it is used. In the realm of logical analysis, without a clear, objective definition of \"hot\" or specific criteria that can be universally applied, we cannot definitively evaluate the truth value of this statement. However, since the hypothetical world\\'s condition is \"things are as they are,\" it suggests that we should accept the state of affairs or common perceptions as they stand. If we consider the common perception that Kate Moss, being a highly successful and widely recognized model, is considered attractive or \"hot\" by societal standards, then under these assumptions and within this hypothetical framework, one might lean towards the statement being true. However, it\\'s crucial to note that this interpretation heavily relies on societal perceptions and the ambiguity of the term \"hot.\" Without a universally accepted metric for \"hotness\" or further clarification, any conclusion drawn is inherently subjective.',\n",
       "   'answer': '1'}},\n",
       " {'predicate': 'flammable',\n",
       "  'arguments': 'wood',\n",
       "  'world': 'things are as they are',\n",
       "  'text': {'rationale': 'In a hypothetical world where \"things are as they are,\" we interpret this to mean that the properties of objects and materials remain consistent with their known properties in our real world. Wood, as a material, is known to be flammable under the right conditions (exposure to a sufficient heat source). Therefore, the statement \"flammable(wood)\" would be considered true in this hypothetical world, as it aligns with the inherent properties of wood.',\n",
       "   'answer': '1'}},\n",
       " {'predicate': 'causes',\n",
       "  'arguments': 'smoking, cancer',\n",
       "  'world': 'things are as they are',\n",
       "  'text': {'rationale': 'In evaluating the truth value of the statement \"causes(smoking, cancer)\" in a hypothetical world where \"things are as they are,\" we rely on the understanding that this statement reflects a widely accepted medical and scientific consensus in the real world. The phrase \"things are as they are\" suggests that the hypothetical world operates under the same principles and truths as the real world. Therefore, given the substantial body of scientific evidence linking smoking to various forms of cancer, the statement would be considered true in this hypothetical world.',\n",
       "   'answer': '1'}},\n",
       " {'predicate': 'ldksfjlkjasdflkbewwb',\n",
       "  'arguments': 'ajajja, wow03i3i',\n",
       "  'world': 'things are as they are',\n",
       "  'text': {'rationale': 'The logical statement provided, \"ldksfjlkjasdflkbewwb(ajajja, wow03i3i),\" does not follow any recognizable logical syntax or structure, making it impossible to evaluate its truth value based on logical principles. However, given the hypothetical world condition that \"things are as they are,\" we might interpret this to mean that every statement or situation simply reflects reality as it is. Without a clear logical or factual claim being made by the statement, and without any context to determine what the statement is supposed to convey, we cannot assign a truth value based on the content of the statement itself. However, adhering strictly to the provided condition and the lack of any logical or factual content to evaluate, the statement neither affirms nor denies anything about the world as it is. Therefore, it doesn\\'t make a claim that can be evaluated as true or false in the context of the given hypothetical world condition.',\n",
       "   'answer': '0'}}]"
      ]
     },
     "execution_count": 3,
     "metadata": {},
     "output_type": "execute_result"
    }
   ],
   "source": [
    "gpt4.chain.batch(\n",
    "    [\n",
    "        {\"predicate\": \"is a\", \"arguments\": \"Richard Nixon, pacifist\", \"world\": \"things are as they are\"},\n",
    "        {\"predicate\": \"is a\", \"arguments\": \"Richard Nixon, pacifist\", \"world\": \"Nixon never went into politics and instead became a Quaker minister\"},\n",
    "        {\"predicate\": \"small\", \"arguments\": \"Los Angeles\", \"world\": \"things are as they are\"},\n",
    "        {\"predicate\": \"hot\", \"arguments\": \"Kate Moss\", \"world\": \"things are as they are\"},\n",
    "        {\"predicate\": \"flammable\", \"arguments\": \"wood\", \"world\": \"things are as they are\"},\n",
    "        {\"predicate\": \"causes\", \"arguments\": \"smoking, cancer\", \"world\": \"things are as they are\"},\n",
    "        {\"predicate\": \"ldksfjlkjasdflkbewwb\", \"arguments\": \"ajajja, wow03i3i\", \"world\": \"things are as they are\"},\n",
    "    ]\n",
    ")"
   ]
  },
  {
   "cell_type": "code",
   "execution_count": 4,
   "metadata": {},
   "outputs": [
    {
     "data": {
      "text/plain": [
       "[{'predicate': 'is a',\n",
       "  'arguments': 'Richard Nixon, pacifist',\n",
       "  'world': 'things are as they are',\n",
       "  'text': {'rationale': '---\\n**Rationale:** The statement is false. A person cannot be both a Richard Nixon and a pacifist. A person can only hold one of these two positions at a time.\\n\\n**Answer:** 0',\n",
       "   'answer': ''}},\n",
       " {'predicate': 'is a',\n",
       "  'arguments': 'Richard Nixon, pacifist',\n",
       "  'world': 'Nixon never went into politics and instead became a Quaker minister',\n",
       "  'text': {'rationale': '**Explanation:**\\n\\n**Step 1**: The statement claims that Richard Nixon was a pacifist.\\n\\n**Step 2**: The statement claims that Nixon never went into politics.\\n\\n**Step 3**: The statement claims that Nixon became a Quaker minister.\\n\\n**Conclusion**: The statement is **false**.\\n\\n**Therefore, the answer is 0**.',\n",
       "   'answer': ''}},\n",
       " {'predicate': 'small',\n",
       "  'arguments': 'Los Angeles',\n",
       "  'world': 'things are as they are',\n",
       "  'text': {'rationale': 'The statement is false. The term \"small\" is not a property of a location, but of a quantity. Los Angeles is a large city.',\n",
       "   'answer': '0'}},\n",
       " {'predicate': 'hot',\n",
       "  'arguments': 'Kate Moss',\n",
       "  'world': 'things are as they are',\n",
       "  'text': {'rationale': 'The statement is asking if the statement \"hot(Kate Moss)\" is true. The statement is asking if the temperature of Kate Moss is above a certain threshold. The statement is not dependent on any other facts or assumptions, so it is always true. Therefore, the answer is 1.',\n",
       "   'answer': '1'}},\n",
       " {'predicate': 'flammable',\n",
       "  'arguments': 'wood',\n",
       "  'world': 'things are as they are',\n",
       "  'text': {'rationale': 'Flammable(wood) implies that wood is capable of burning. Things are as they are, which means that wood is a material that can burn. Therefore, the statement is true.',\n",
       "   'answer': '1'}},\n",
       " {'predicate': 'causes',\n",
       "  'arguments': 'smoking, cancer',\n",
       "  'world': 'things are as they are',\n",
       "  'text': {'rationale': '---\\n**Rationale:**\\n\\nThe statement claims that \"causes(smoking, cancer)\" is true. However, the premise \"things are as they are\" implies that the cause and effect relationship between smoking and cancer is not applicable in this hypothetical world.\\n\\n**Conclusion:**\\n\\nBased on the premise and the implication, the statement is false in a hypothetical world where \"things are as they are\".',\n",
       "   'answer': ''}},\n",
       " {'predicate': 'ldksfjlkjasdflkbewwb',\n",
       "  'arguments': 'ajajja, wow03i3i',\n",
       "  'world': 'things are as they are',\n",
       "  'text': {'rationale': 'Explanation: {explanation}\\n\\n**Rationale:** The statement is false.\\n\\n**Explanation:** The statement is a contradiction, as it contains a phrase that is not a valid identifier.',\n",
       "   'answer': ''}}]"
      ]
     },
     "execution_count": 4,
     "metadata": {},
     "output_type": "execute_result"
    }
   ],
   "source": [
    "gemma_2b.chain.batch(\n",
    "    [\n",
    "        {\"predicate\": \"is a\", \"arguments\": \"Richard Nixon, pacifist\", \"world\": \"things are as they are\"},\n",
    "        {\"predicate\": \"is a\", \"arguments\": \"Richard Nixon, pacifist\", \"world\": \"Nixon never went into politics and instead became a Quaker minister\"},\n",
    "        {\"predicate\": \"small\", \"arguments\": \"Los Angeles\", \"world\": \"things are as they are\"},\n",
    "        {\"predicate\": \"hot\", \"arguments\": \"Kate Moss\", \"world\": \"things are as they are\"},\n",
    "        {\"predicate\": \"flammable\", \"arguments\": \"wood\", \"world\": \"things are as they are\"},\n",
    "        {\"predicate\": \"causes\", \"arguments\": \"smoking, cancer\", \"world\": \"things are as they are\"},\n",
    "        {\"predicate\": \"ldksfjlkjasdflkbewwb\", \"arguments\": \"ajajja, wow03i3i\", \"world\": \"things are as they are\"},\n",
    "    ]\n",
    ")"
   ]
  },
  {
   "cell_type": "code",
   "execution_count": 5,
   "metadata": {},
   "outputs": [
    {
     "data": {
      "text/plain": [
       "[{'predicate': 'is a',\n",
       "  'arguments': 'Richard Nixon, pacifist',\n",
       "  'world': 'things are as they are',\n",
       "  'text': {'rationale': 'Richard Nixon was the 37th President of the United States from 1969 to 1974. He is not known for being a pacifist, but rather for his involvement in foreign conflicts such as the Vietnam War. Therefore, it is false to say that Richard Nixon was a pacifist.',\n",
       "   'answer': '0'}},\n",
       " {'predicate': 'is a',\n",
       "  'arguments': 'Richard Nixon, pacifist',\n",
       "  'world': 'Nixon never went into politics and instead became a Quaker minister',\n",
       "  'text': {'rationale': 'In this hypothetical world, Nixon became a Quaker minister instead of going into politics. Quakers are generally known for their peace testimony and pacifist beliefs. Therefore, it is reasonable to assume that Nixon, as a Quaker minister, would hold pacifist views.',\n",
       "   'answer': '1'}},\n",
       " {'predicate': 'flammable',\n",
       "  'arguments': 'wood',\n",
       "  'world': 'things are as they are',\n",
       "  'text': {'rationale': 'Wood is a material that can easily catch fire and burn, making it flammable.',\n",
       "   'answer': '1'}},\n",
       " {'predicate': 'small',\n",
       "  'arguments': 'Los Angeles',\n",
       "  'world': 'things are as they are',\n",
       "  'text': {'rationale': 'Los Angeles is a city, not a small object. Therefore, it is false to say that Los Angeles is small.',\n",
       "   'answer': '0'}},\n",
       " {'predicate': 'hot',\n",
       "  'arguments': 'Kate Moss',\n",
       "  'world': 'things are as they are',\n",
       "  'text': {'rationale': 'The truth value of the statement \"hot(Kate Moss)\" cannot be definitively determined without additional context or information. The term \"hot\" is subjective and could refer to physical attractiveness, temperature, or other concepts. In the absence of a clear definition, we cannot accurately evaluate the truth value of this statement.',\n",
       "   'answer': '0'}},\n",
       " {'predicate': 'causes',\n",
       "  'arguments': 'smoking, cancer',\n",
       "  'world': 'things are as they are',\n",
       "  'text': {'rationale': \"In the hypothetical world where things are as they are, we don't have specific information about the relationship between smoking and cancer. However, in the real world, numerous studies have shown a strong correlation between smoking and lung cancer. Therefore, based on our general knowledge, it is reasonable to assume that smoking could cause cancer in this hypothetical world as well.\",\n",
       "   'answer': '1'}},\n",
       " {'predicate': 'ldksfjlkjasdflkbewwb',\n",
       "  'arguments': 'ajajja, wow03i3i',\n",
       "  'world': 'things are as they are',\n",
       "  'text': {'rationale': 'The given statement is not a logical statement as it does not follow any logical structure or contain any meaningful information. It is just a random collection of characters and function calls, which do not correspond to any valid operation or statement in any known programming language or logical system. Therefore, it is neither true nor false.',\n",
       "   'answer': '0'}}]"
      ]
     },
     "execution_count": 5,
     "metadata": {},
     "output_type": "execute_result"
    }
   ],
   "source": [
    "mixtral.chain.batch(\n",
    "    [\n",
    "        {\"predicate\": \"is a\", \"arguments\": \"Richard Nixon, pacifist\", \"world\": \"things are as they are\"},\n",
    "        {\"predicate\": \"is a\", \"arguments\": \"Richard Nixon, pacifist\", \"world\": \"Nixon never went into politics and instead became a Quaker minister\"},\n",
    "        {\"predicate\": \"flammable\", \"arguments\": \"wood\", \"world\": \"things are as they are\"},\n",
    "        {\"predicate\": \"small\", \"arguments\": \"Los Angeles\", \"world\": \"things are as they are\"},\n",
    "        {\"predicate\": \"hot\", \"arguments\": \"Kate Moss\", \"world\": \"things are as they are\"},\n",
    "        {\"predicate\": \"causes\", \"arguments\": \"smoking, cancer\", \"world\": \"things are as they are\"},\n",
    "        {\"predicate\": \"ldksfjlkjasdflkbewwb\", \"arguments\": \"ajajja, wow03i3i\", \"world\": \"things are as they are\"},\n",
    "    ]\n",
    ")"
   ]
  },
  {
   "cell_type": "code",
   "execution_count": null,
   "metadata": {},
   "outputs": [],
   "source": []
  }
 ],
 "metadata": {
  "kernelspec": {
   "display_name": "Python 3",
   "language": "python",
   "name": "python3"
  },
  "language_info": {
   "codemirror_mode": {
    "name": "ipython",
    "version": 3
   },
   "file_extension": ".py",
   "mimetype": "text/x-python",
   "name": "python",
   "nbconvert_exporter": "python",
   "pygments_lexer": "ipython3",
   "version": "3.11.4"
  }
 },
 "nbformat": 4,
 "nbformat_minor": 2
}
