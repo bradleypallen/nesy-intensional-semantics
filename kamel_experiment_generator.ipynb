{
 "cells": [
  {
   "cell_type": "code",
   "execution_count": 1,
   "metadata": {},
   "outputs": [],
   "source": [
    "import json, wikipedia, os, random\n",
    "from tqdm import tqdm\n",
    "from wikidata.client import Client\n",
    "from requests_ratelimiter import LimiterSession"
   ]
  },
  {
   "cell_type": "code",
   "execution_count": 2,
   "metadata": {},
   "outputs": [],
   "source": [
    "KAMEL_DIRECTORY = \"data/KAMEL\"\n",
    "KAMEL_PROPERTIES = [name for name in os.listdir(KAMEL_DIRECTORY) if os.path.isdir(os.path.join(KAMEL_DIRECTORY, name))]\n",
    "random.shuffle(KAMEL_PROPERTIES)\n",
    "SAMPLE_SIZE = 20\n",
    "QUERY_HEADERS = {\n",
    "    'User-Agent': 'NeSyIntSem/0.1 (https://github.com/bradleypallen/nesy-intentional-semantics; b.p.allen@uva.nl)',\n",
    "}"
   ]
  },
  {
   "cell_type": "code",
   "execution_count": 3,
   "metadata": {},
   "outputs": [],
   "source": [
    "def get_wikipedia_summary(page_url):\n",
    "    try:\n",
    "        page_title = page_url.split(\"/\")[-1]\n",
    "        page = wikipedia.page(page_title)\n",
    "        summary = page.summary\n",
    "        return summary\n",
    "    except wikipedia.exceptions.PageError:\n",
    "        return \"Page not found.\"\n",
    "    except wikipedia.exceptions.DisambiguationError as e:\n",
    "        return f\"Disambiguation page. Possible matches: {e.options}\""
   ]
  },
  {
   "cell_type": "code",
   "execution_count": 4,
   "metadata": {},
   "outputs": [],
   "source": [
    "def get_entity_id_from_label(session, property, label, obj):\n",
    "    label = label[:1].upper() + label[1:]\n",
    "    query = f'SELECT ?item WHERE {{ {{ ?item wdt:{property} wd:{obj} ; rdfs:label \"{label}\"@en . }} UNION {{ ?item wdt:{property} wd:{obj} ; skos:altLabel \"{label}\"@en . }} }} LIMIT 1'\n",
    "    url = \"https://query.wikidata.org/sparql\"\n",
    "    params = {\"query\": query, \"format\": \"json\"}\n",
    "    response = session.get(url, params=params)\n",
    "    # print(response.status_code, end=\" > \")\n",
    "    if response.status_code == 200:\n",
    "        data = response.json()\n",
    "        if data[\"results\"][\"bindings\"]:\n",
    "            return data[\"results\"][\"bindings\"][0][\"item\"][\"value\"].split(\"/\")[-1]\n",
    "    \n",
    "    return None"
   ]
  },
  {
   "cell_type": "code",
   "execution_count": 9,
   "metadata": {},
   "outputs": [
    {
     "name": "stderr",
     "output_type": "stream",
     "text": [
      "P5353: 100%|██████████| 200/200 [06:41<00:00,  2.01s/it]\n",
      "P571: 100%|██████████| 200/200 [06:03<00:00,  1.82s/it]\n",
      "P4552: 100%|██████████| 200/200 [06:39<00:00,  2.00s/it]\n"
     ]
    }
   ],
   "source": [
    "for property in KAMEL_PROPERTIES[:SAMPLE_SIZE]:\n",
    "    filename = f\"data/ISWC/{property}.json\"\n",
    "    if os.path.isfile(filename):\n",
    "        print(f'Skipping {property}')\n",
    "    else:\n",
    "        data = [ json.loads(line) for line in open(f\"data/KAMEL/{property}/test.jsonl\", \"r\") ]\n",
    "        wikidata_client = Client()\n",
    "        prop = wikidata_client.get(property, load=True)\n",
    "        session = LimiterSession(per_minute=30)\n",
    "        session.headers.update(QUERY_HEADERS)\n",
    "        new_data = []\n",
    "        for datum in tqdm(data, desc=f'{property}', total=len(data)):\n",
    "            # print(f'{i:3d}', datum['sub_label'], datum['obj_uri'][0], end=\": \")\n",
    "            subj_id = get_entity_id_from_label(session, property, datum['sub_label'], datum['obj_uri'][0])\n",
    "            # print(subj_id)\n",
    "            if subj_id:\n",
    "                try:\n",
    "                    subj = wikidata_client.get(subj_id, load=True)\n",
    "                    obj = wikidata_client.get(datum['obj_uri'][0], load=True)\n",
    "                    new_datum = { \n",
    "                        \"predicate\": { \n",
    "                            \"id\": property, \n",
    "                            \"label\": str(prop.label), \n",
    "                            \"definition\": f'{str(prop.label)}: {str(prop.description)}.' \n",
    "                        }, \n",
    "                        \"arguments\": [ \n",
    "                            { \n",
    "                                \"id\": str(subj.id), \n",
    "                                \"label\": str(subj.label), \n",
    "                                \"description\": f'{str(subj.label)}: {wikipedia.summary(str(subj.label), auto_suggest=False)}' \n",
    "                            }, \n",
    "                            { \n",
    "                                \"id\": str(obj.id), \n",
    "                                \"label\": str(obj.label), \n",
    "                                \"description\": f'{str(obj.label)}: {wikipedia.summary(str(obj.label), auto_suggest=False)}' \n",
    "                            } \n",
    "                        ], \n",
    "                        \"in_extension\": \"1\" \n",
    "                   }\n",
    "                    new_data.append(new_datum)\n",
    "                except:\n",
    "                    pass\n",
    "        json.dump(new_data, open(filename, \"w+\"))"
   ]
  },
  {
   "cell_type": "code",
   "execution_count": 10,
   "metadata": {},
   "outputs": [],
   "source": [
    "json.dump(KAMEL_PROPERTIES, open(\"data/ISWC/kamel_properties.json\", \"w+\"))"
   ]
  }
 ],
 "metadata": {
  "kernelspec": {
   "display_name": "Python 3",
   "language": "python",
   "name": "python3"
  },
  "language_info": {
   "codemirror_mode": {
    "name": "ipython",
    "version": 3
   },
   "file_extension": ".py",
   "mimetype": "text/x-python",
   "name": "python",
   "nbconvert_exporter": "python",
   "pygments_lexer": "ipython3",
   "version": "3.11.4"
  }
 },
 "nbformat": 4,
 "nbformat_minor": 2
}
